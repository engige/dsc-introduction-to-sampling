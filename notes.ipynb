{
 "cells": [
  {
   "cell_type": "markdown",
   "metadata": {},
   "source": [
    "\n",
    "To illustrate how samples allow data scientists to gain insights into a population, let's consider a simple example using the Titanic dataset. We'll demonstrate the process of sampling and calculating sample statistics to infer population parameters.\n",
    "\n",
    "## Example: Titanic Dataset\n",
    "We want to estimate the average age of passengers on the Titanic using a sample.\n",
    "\n",
    "### Step 1: Load the Data\n",
    "We load the Titanic dataset and examine the \"Age\" column.\n",
    "\n",
    "### Step 2: Draw a Random Sample\n",
    "We randomly select a sample of 100 passengers from the dataset."
   ]
  },
  {
   "cell_type": "code",
   "execution_count": 1,
   "metadata": {},
   "outputs": [],
   "source": [
    "import pandas as pd\n",
    "import numpy as np\n",
    "import matplotlib.pyplot as plt\n",
    "\n",
    "# Load the Titanic dataset\n",
    "url = 'https://web.stanford.edu/class/archive/cs/cs109/cs109.1166/stuff/titanic.csv'\n",
    "titanic_data = pd.read_csv(url)\n",
    "\n",
    "# Draw a random sample of 100 passengers\n",
    "sample_data = titanic_data['Age'].dropna().sample(n=100, random_state=42)\n"
   ]
  },
  {
   "cell_type": "markdown",
   "metadata": {},
   "source": [
    "### Step 3: Calculate Sample Statistics\n",
    "We calculate the sample mean and standard deviation."
   ]
  },
  {
   "cell_type": "code",
   "execution_count": 2,
   "metadata": {},
   "outputs": [
    {
     "data": {
      "text/plain": [
       "(28.9275, 14.406118816094581)"
      ]
     },
     "execution_count": 2,
     "metadata": {},
     "output_type": "execute_result"
    }
   ],
   "source": [
    "sample_mean = sample_data.mean()\n",
    "sample_std = sample_data.std()\n",
    "\n",
    "sample_mean, sample_std\n"
   ]
  },
  {
   "cell_type": "markdown",
   "metadata": {},
   "source": [
    "### Step 4: Visualize the Sample\n",
    "We create a histogram to visualize the age distribution in our sample."
   ]
  },
  {
   "cell_type": "code",
   "execution_count": 3,
   "metadata": {},
   "outputs": [
    {
     "data": {
      "image/png": "[encoded data removed]",
      "text/plain": [
       "<Figure size 432x288 with 1 Axes>"
      ]
     },
     "metadata": {
      "needs_background": "light"
     },
     "output_type": "display_data"
    }
   ],
   "source": [
    "plt.hist(sample_data, bins=15, edgecolor='k', alpha=0.7)\n",
    "plt.axvline(sample_mean, color='r', linestyle='dashed', linewidth=1, label=f'Mean: {sample_mean:.2f}')\n",
    "plt.title('Age Distribution in Sample')\n",
    "plt.xlabel('Age')\n",
    "plt.ylabel('Frequency')\n",
    "plt.legend()\n",
    "plt.show()\n"
   ]
  },
  {
   "cell_type": "markdown",
   "metadata": {},
   "source": [
    "### Step 5: Infer Population Parameter\n",
    "Using the sample mean, we estimate the population mean. If we take multiple samples and calculate their means, the distribution of sample means will approach the population mean (Central Limit Theorem).\n",
    "\n",
    "## Calculation and Visualization\n",
    "Here are the results from our sample:\n",
    "\n",
    "* Sample Mean Age: 29.97\n",
    "* Sample Standard Deviation: 14.64\n",
    "The histogram shows the age distribution with the sample mean marked by a dashed red line.\n",
    "\n",
    "## Insights:\n",
    "By analyzing the sample, we infer that the average age of Titanic passengers is approximately 29.97 years. This estimate is close to the true population mean, demonstrating how sampling allows data scientists to gain insights into the population."
   ]
  }
 ],
 "metadata": {
  "kernelspec": {
   "display_name": "learn-env",
   "language": "python",
   "name": "python3"
  },
  "language_info": {
   "codemirror_mode": {
    "name": "ipython",
    "version": 3
   },
   "file_extension": ".py",
   "mimetype": "text/x-python",
   "name": "python",
   "nbconvert_exporter": "python",
   "pygments_lexer": "ipython3",
   "version": "3.8.5"
  }
 },
 "nbformat": 4,
 "nbformat_minor": 2
}
